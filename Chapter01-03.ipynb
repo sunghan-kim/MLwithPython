{
 "cells": [
  {
   "cell_type": "markdown",
   "metadata": {},
   "source": [
    "<br>"
   ]
  },
  {
   "cell_type": "markdown",
   "metadata": {},
   "source": [
    "# 1.3 scikit-learn"
   ]
  },
  {
   "cell_type": "markdown",
   "metadata": {},
   "source": [
    "<br>"
   ]
  },
  {
   "cell_type": "markdown",
   "metadata": {},
   "source": [
    "**scikit-learn(사이킷런)**\n",
    "- 잘 알려진 머신러닝 알고리즘들 제공\n",
    "- 알고리즘을 설명한 풍부한 문서도 제공 ([문서 링크](http://scikit-learn.org/stable/documentation))\n",
    "- 인기가 높은 파이썬 머신러닝 라이브러리\n",
    "- 산업 현장이나 학계에도 널리 사용\n",
    "- 다른 파이썬의 과학 패키지들과도 잘 연동됨\n",
    "- [scikit-learn 사용자 가이드](http://scikit-learn.org/stable/user_guide.html)와 [API 문서](http://scikit-learn.org/stable/modules/classes.html) 참고하면서 각 알고리즘에 대한 상세 내용과 다양한 옵션을 확인"
   ]
  },
  {
   "cell_type": "markdown",
   "metadata": {},
   "source": [
    "<br>"
   ]
  },
  {
   "cell_type": "markdown",
   "metadata": {},
   "source": [
    "## 1.3.1 scikit-learn 설치"
   ]
  },
  {
   "cell_type": "markdown",
   "metadata": {},
   "source": [
    "<br>"
   ]
  },
  {
   "cell_type": "markdown",
   "metadata": {},
   "source": [
    "- scikit-learn은 두 개의 다른 파이썬 패키지인 **Numpy(넘파이)**와 **SciPy(사이파이)**를 사용\n",
    "- 그래프를 그리려면 **matplotlib(맷플롯립)** 설치해야 함\n",
    "- 대화식으로 개발하려면 **IPython(아이파이썬)**과 주피터 노트북도 설치해야 함"
   ]
  },
  {
   "cell_type": "markdown",
   "metadata": {},
   "source": [
    "- 그래서 필요한 패키지들을 모아놓은 파이썬 배포판을 설치하는 방법을 권장"
   ]
  },
  {
   "cell_type": "markdown",
   "metadata": {},
   "source": [
    "### 대표적인 배포판들"
   ]
  },
  {
   "cell_type": "markdown",
   "metadata": {},
   "source": [
    "**1) Anaconda \\[[바로가기](https://www.continuum.io/anaconda-overview)\\]**\n",
    "- 대용량 데이터 처리, 예측 분석, 과학 계산용 파이썬 배포판\n",
    "- Numpy, SciPy, matplotlib, pandas, IPython, 주피터 노트북, scikit-learn 포함\n",
    "- macOS, 윈도우, 리눅스 모두 지원\n",
    "- 상용 라이브러리인 인텔 MKL 라이브러리(인텔 호환 프로세서를 위한 고성능 수학 라이브러리)도 포함\n",
    "- MKL을 사용하면 scikit-learn의 여러 알고리즘이 훨씬 빠르게 동작"
   ]
  },
  {
   "cell_type": "markdown",
   "metadata": {},
   "source": [
    "**2) Enthought Canopy \\[[바로가기](https://www.enthought.com/products/canopy)\\]**\n",
    "- 또 다른 과학 계산용 파이썬 배포판\n",
    "- Numpy, SciPy, matplotlib, pandas, IPython 포함\n",
    "- 무료 버전에는 scikit-learn이 포함되어 있지 않음"
   ]
  },
  {
   "cell_type": "markdown",
   "metadata": {},
   "source": [
    "**3) Python(x,y) \\[[바로가기](http://python-xy.github.io)\\]**\n",
    "- 윈도우 환경을 위한 과학 계산용 무료 파이썬 배포판\n",
    "- Numpy, SciPy, matplotlib, pandas, IPython, scikit-learn 포함"
   ]
  },
  {
   "cell_type": "markdown",
   "metadata": {},
   "source": [
    "<br>"
   ]
  },
  {
   "cell_type": "markdown",
   "metadata": {},
   "source": [
    "- 파이썬이 이미 설치되어 있다면 `pip` 명령을 사용해 필요한 패키지들을 설치할 수 있음"
   ]
  },
  {
   "cell_type": "markdown",
   "metadata": {},
   "source": [
    "```\n",
    "pip install numpy scipy matplotlib ipython scikit-learn pandas pillow\n",
    "```"
   ]
  }
 ],
 "metadata": {
  "kernelspec": {
   "display_name": "Python 3",
   "language": "python",
   "name": "python3"
  },
  "language_info": {
   "codemirror_mode": {
    "name": "ipython",
    "version": 3
   },
   "file_extension": ".py",
   "mimetype": "text/x-python",
   "name": "python",
   "nbconvert_exporter": "python",
   "pygments_lexer": "ipython3",
   "version": "3.6.7"
  }
 },
 "nbformat": 4,
 "nbformat_minor": 2
}
