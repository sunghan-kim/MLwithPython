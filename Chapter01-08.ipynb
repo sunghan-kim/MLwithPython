{
 "cells": [
  {
   "cell_type": "markdown",
   "metadata": {},
   "source": [
    "# 1.8 요약 및 정리"
   ]
  },
  {
   "cell_type": "markdown",
   "metadata": {},
   "source": [
    "-  머신러닝과 머신러닝 애플리케이션에 대한 간략한 소개\n",
    "- 지도 학습과 비지도 학습 차이 설명\n",
    "- 이 책에서 사용할 도구"
   ]
  },
  {
   "cell_type": "markdown",
   "metadata": {},
   "source": [
    "<br>"
   ]
  },
  {
   "cell_type": "markdown",
   "metadata": {},
   "source": [
    "- 실측한 자료를 사용, 붓꽃의 품종을 예측하는 작업을 자세히 묘사  "
   ]
  },
  {
   "cell_type": "markdown",
   "metadata": {},
   "source": [
    "**모델 구축**\n",
    "- 전문가가 정확한 품종으로 구분해놓은 데이터셋을 사용\n",
    "- **지도 학습**에 해당하는 문제\n",
    "- 세 개의 클래스를 **분류**하는 문제 (품종이 3개 (setosa, sersicolor, virginica)이기 때문)\n",
    "- **클래스** : 분류 문제에서의 각 품종\n",
    "- **레이블** : 분류 문제에서의 개별 붓꽃 품종"
   ]
  },
  {
   "cell_type": "markdown",
   "metadata": {},
   "source": [
    "**붓꽃 데이터셋**\n",
    "- 두 개의 NumPy 배열로 이루어짐\n",
    "  1. 데이터 (scikit-learn에서는 `X`로 표기)\n",
    "  2. 정확한(혹은 기대하는) 출력 (scikit-learn에서는 `y`로 표기)"
   ]
  },
  {
   "cell_type": "markdown",
   "metadata": {},
   "source": [
    "**배열 X**\n",
    "- 특성들의 2차원 배열\n",
    "- 각 데이터 포인트는 행 하나로 나타남\n",
    "- 각 특성은 열 하나"
   ]
  },
  {
   "cell_type": "markdown",
   "metadata": {},
   "source": [
    "**배열 y**\n",
    "- 1차원 배열\n",
    "- 각 샘플의 클래스 레이블에 해당하는 0~2사이의 정수을 담고 있음"
   ]
  },
  {
   "cell_type": "markdown",
   "metadata": {},
   "source": [
    "**훈련 세트**\n",
    "- 데이터셋을 모델 구축에 사용할 데이터"
   ]
  },
  {
   "cell_type": "markdown",
   "metadata": {},
   "source": [
    "**테스트 세트**\n",
    "- 모델이 새로운 데이터에 얼마나 잘 적용될 수 있을 지 평가하기 위한 데이터"
   ]
  },
  {
   "cell_type": "markdown",
   "metadata": {},
   "source": [
    "<br>"
   ]
  },
  {
   "cell_type": "markdown",
   "metadata": {},
   "source": [
    "**$k$-최근젒 이웃 분류 알고리즘**\n",
    "- 새 데이터 포인트를 예측하기 위해 훈련 데이터에서 가장 가까운 이웃을 선택  \n",
    "  \n",
    "  \n",
    "- `KNeighborsClassifier` 클래스에 구현\n",
    "- 위 클래스에서 모델을 만드는 것부터 예측하는 기능까지 제공\n",
    "- `n_neighbors` 매개변수를 지정해 이 클래스의 객체를 만듬  \n",
    "  \n",
    "  \n",
    "- 훈련 데이터(`X_train`)와 훈련 데이터의 레이블(`y_train`)을 매개변수로 하여 `fit` 메서드를 호출해 모델을 만듬  \n",
    "  \n",
    "  \n",
    "- `score` 메서드를 이용 모델의 정확도를 계산하여 모델 평가\n",
    "- 테스트 데이터(`X_test`)와 테스트 데이터의 레이블(`y_test`)을 `score` 메서드에 넣어 97% 정확도를 얻음  \n",
    "  (테스트 세트에 있는 샘플의 97%를 정확히 맞혔다.)  \n",
    "  \n",
    "- 이 결과는 새로운 데이터(ex. 새 붓꽃의 측정값)에 이 모델을 적용해도 좋다는 확신을 줌\n",
    "- 약 97% 확률로 이 모델을 신뢰할 수 있음\n"
   ]
  },
  {
   "cell_type": "markdown",
   "metadata": {},
   "source": [
    "**훈련과 평가 과정 코드**"
   ]
  },
  {
   "cell_type": "code",
   "execution_count": 1,
   "metadata": {},
   "outputs": [
    {
     "name": "stdout",
     "output_type": "stream",
     "text": [
      "테스트 세트의 정확도: 0.97\n"
     ]
    }
   ],
   "source": [
    "from sklearn.datasets import load_iris\n",
    "iris_dataset = load_iris()\n",
    "\n",
    "from sklearn.model_selection import train_test_split\n",
    "X_train, X_test, y_train, y_test = train_test_split(iris_dataset['data'], iris_dataset['target'], random_state=0)\n",
    "\n",
    "from sklearn.neighbors import KNeighborsClassifier\n",
    "knn = KNeighborsClassifier(n_neighbors=1)\n",
    "\n",
    "knn.fit(X_train, y_train)\n",
    "\n",
    "print(\"테스트 세트의 정확도: {:.2f}\".format(knn.score(X_test, y_test)))"
   ]
  },
  {
   "cell_type": "markdown",
   "metadata": {},
   "source": [
    "- `fit`, `predict`, `score` 메서드는 scikit-learn 지도 학습 모델의 공통 인터페이스"
   ]
  },
  {
   "cell_type": "markdown",
   "metadata": {},
   "source": [
    "<br>"
   ]
  },
  {
   "cell_type": "markdown",
   "metadata": {},
   "source": [
    "- 다음 장에서 scikit-learn에 있는 다른 종류의 지도 학습 모델에 대한 상세 내용과 올바른 적용 방법 학습"
   ]
  },
  {
   "cell_type": "code",
   "execution_count": null,
   "metadata": {},
   "outputs": [],
   "source": []
  }
 ],
 "metadata": {
  "kernelspec": {
   "display_name": "Python 3",
   "language": "python",
   "name": "python3"
  },
  "language_info": {
   "codemirror_mode": {
    "name": "ipython",
    "version": 3
   },
   "file_extension": ".py",
   "mimetype": "text/x-python",
   "name": "python",
   "nbconvert_exporter": "python",
   "pygments_lexer": "ipython3",
   "version": "3.6.7"
  }
 },
 "nbformat": 4,
 "nbformat_minor": 2
}
