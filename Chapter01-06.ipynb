{
 "cells": [
  {
   "cell_type": "markdown",
   "metadata": {},
   "source": [
    "# 1.6 이 책에서 사용하는 소프트웨어 버전"
   ]
  },
  {
   "cell_type": "markdown",
   "metadata": {},
   "source": [
    "- 앞에서 언급한 라이브러리들의 이 책에서 사용할 버전 확인"
   ]
  },
  {
   "cell_type": "markdown",
   "metadata": {},
   "source": [
    "**현재 사용하는 라이브러리들의 버전**"
   ]
  },
  {
   "cell_type": "code",
   "execution_count": 6,
   "metadata": {},
   "outputs": [
    {
     "name": "stdout",
     "output_type": "stream",
     "text": [
      "Python 버전: 3.6.7 | packaged by conda-forge | (default, Nov 21 2018, 02:32:25) \n",
      "[GCC 4.8.2 20140120 (Red Hat 4.8.2-15)]\n",
      "pandas 버전: 0.23.4\n",
      "matplotlib 버전: 2.2.3\n",
      "numpy 버전: 1.13.3\n",
      "scipy 버전: 1.1.0\n",
      "IPython 버전: 7.2.0\n",
      "scikit-learn 버전: 0.20.1\n"
     ]
    }
   ],
   "source": [
    "import sys\n",
    "print(\"Python 버전: {}\".format(sys.version))\n",
    "\n",
    "import pandas as pd\n",
    "print(\"pandas 버전: {}\".format(pd.__version__))\n",
    "\n",
    "import matplotlib\n",
    "print(\"matplotlib 버전: {}\".format(matplotlib.__version__))\n",
    "\n",
    "import numpy as np\n",
    "print(\"numpy 버전: {}\".format(np.__version__))\n",
    "\n",
    "import scipy as sp\n",
    "print(\"scipy 버전: {}\".format(sp.__version__))\n",
    "\n",
    "import IPython\n",
    "print(\"IPython 버전: {}\".format(IPython.__version__))\n",
    "\n",
    "import sklearn\n",
    "print(\"scikit-learn 버전: {}\".format(sklearn.__version__))"
   ]
  },
  {
   "cell_type": "markdown",
   "metadata": {},
   "source": [
    "**책에서 사용하는 라이브러리의 버전**"
   ]
  },
  {
   "cell_type": "markdown",
   "metadata": {},
   "source": [
    "```\n",
    "Python 버전: 3.5.3 | packaged by conda-forge | (default, Mar 6 2017, 12:15:08)   \n",
    "[GCC 4.2.1 Compatible Apple LLVM 6.0 (clang-600.0.57)]  \n",
    "pandas 버전: 0.20.1  \n",
    "matplotlib 버전: 2.0.1  \n",
    "numpy 버전: 1.12.1  \n",
    "scipy 버전: 0.19.0  \n",
    "IPython 버전: 5.3.0  \n",
    "scikit-learn 버전: 0.19  \n",
    "```"
   ]
  },
  {
   "cell_type": "markdown",
   "metadata": {},
   "source": [
    "- scikit-learn은 가능한 한 최선 버전이어야 함"
   ]
  },
  {
   "cell_type": "markdown",
   "metadata": {},
   "source": [
    "**CAUTION**\n",
    "- 이 책은 scikit-learn 0.18 이상 버전을 설치했다고 가정"
   ]
  },
  {
   "cell_type": "code",
   "execution_count": null,
   "metadata": {},
   "outputs": [],
   "source": []
  }
 ],
 "metadata": {
  "kernelspec": {
   "display_name": "Python 3",
   "language": "python",
   "name": "python3"
  },
  "language_info": {
   "codemirror_mode": {
    "name": "ipython",
    "version": 3
   },
   "file_extension": ".py",
   "mimetype": "text/x-python",
   "name": "python",
   "nbconvert_exporter": "python",
   "pygments_lexer": "ipython3",
   "version": "3.6.7"
  }
 },
 "nbformat": 4,
 "nbformat_minor": 2
}
