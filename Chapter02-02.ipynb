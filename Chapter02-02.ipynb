{
 "cells": [
  {
   "cell_type": "markdown",
   "metadata": {},
   "source": [
    "## 2.2 일반화, 과대적합, 과소적합"
   ]
  },
  {
   "cell_type": "markdown",
   "metadata": {},
   "source": [
    "**일반화 (generalization)**\n",
    "\n",
    "- 모델이 처음 보는 데이터에 대해 정확하게 예측할 수 있다 $\\rightarrow$ 훈련 세트에서 테스트 세트로 **일반화(generalization)** 되었다.  \n",
    "  \n",
    "  \n",
    "- 훈련 세트에 대해 정확히 예측하도록 모델을 구축\n",
    "- 테스트 세트가 훈련 세트와 비슷하면 구축한 모델이 테스트 세트에 대해서도 정확히 예측할 것이라고 기대\n",
    "- 그러나, 아주 **복잡한 모델**을 만든다면 **훈련 세트에만 정확한 모델**이 될 수 있음"
   ]
  },
  {
   "cell_type": "markdown",
   "metadata": {},
   "source": [
    "**ex) 요트를 구매한 고객과 구매 의사가 없는 고객의 데이터를 이용해 누가 요트를 살지 예측**\n",
    "- 관심없는 고객들에게 홍보 메일을 안 보내고, 실제 구매할 것 같은 고객에게만 홍보 메일을 보내느 것이 목표\n",
    "- 고객 데이터는 **[표 2-1]**과 같음"
   ]
  },
  {
   "cell_type": "markdown",
   "metadata": {},
   "source": [
    "|나이|보유차량수|주택보유|자녀수|혼인상태|애완견|보트구매|\n",
    "|:---:|:---:|:---:|:---:|:---:|:---:|:---:|\n",
    "|66|1|yes|2|사별|no|yes|\n",
    "|52|2|yes|3|기혼|no|yes|\n",
    "|22|0|yes|0|기혼|yes|no|\n",
    "|25|1|no|1|미혼|no|no|\n",
    "|44|0|no|2|이혼|yes|no|\n",
    "|39|1|no|2|기혼|yes|no|\n",
    "|26|1|yes|2|미혼|no|no|\n",
    "|40|3|no|1|기혼|yes|no|\n",
    "|53|2|yes|2|이혼|no|yes|\n",
    "|64|2|yes|3|이혼|no|no|\n",
    "|58|2|yes|2|기혼|yes|yes|\n",
    "|33|1|no|1|미혼|no|no|"
   ]
  },
  {
   "cell_type": "markdown",
   "metadata": {},
   "source": [
    "<div style=\"text-align:center\">\n",
    "    <b>[표 2-1]</b> 고객 샘플 데이터\n",
    "</div>"
   ]
  },
  {
   "cell_type": "markdown",
   "metadata": {},
   "source": [
    "- 발견한 규칙 : \"45세 이상, 자녀가 셋 미만, 이혼하지 않은 고객은 요트를 살 것\" (표의 두 번째 데이터)\n",
    "- **이 표의 데이터**로 국한하면 이 규칙이 완벽하게 들어맞음\n",
    "- 그런데 이 데이터셋에서 요트를 사려고 하는 사람을 완벽하게 묘사하는 규칙은 매우 많음\n",
    "- 이 데이터를 만족하는 규칙을 많이 만들 수 있지만, 우리가 예측하려는 대상은 이 데이터셋이 아니다!\n",
    "- 우리가 알고 싶은 것은 **\"새로운 고객이 요트를 구매할 것인가\"** 이다.\n",
    "- 훈련 세트에서 100% 정확도를 달성하는 것은 크게 도움이 되지 않는다."
   ]
  },
  {
   "cell_type": "markdown",
   "metadata": {},
   "source": [
    "- 알고리즘이 새로운 데이터도 잘 처리하는 지 측정하는 방법 $\\rightarrow$ 테스트 세트로 평가\n",
    "- **간단한 모델**이 새로운 데이터에 더 잘 일반화될 것이라고 예상할 수 있음\n",
    "- ex) \"50세 이상인 사람은 보트를 사려고 한다\"라는 규칙을 만듬  \n",
    "  - 이 규칙은 모든 고객 데이터를 만족시키고, 나이 이외에 자녀 수나 혼인 상태를 추가한 규칙보다 더 신뢰할 수 있음"
   ]
  },
  {
   "cell_type": "markdown",
   "metadata": {},
   "source": [
    "<br>"
   ]
  },
  {
   "cell_type": "markdown",
   "metadata": {},
   "source": [
    "**과대적합 (Overfitting)**\n",
    "\n",
    "- 가진 정보를 모두 사용해서 너무 복잡한 모델을 만드는 것\n",
    "- 모델이 훈련 세트의 각 샘플에 너무 가깝게 맞춰져서 새로운 데이터에 일반화되기 어려운 상태"
   ]
  },
  {
   "cell_type": "markdown",
   "metadata": {},
   "source": [
    "**과소적합 (Underfitting)**\n",
    "\n",
    "- 너무 간단한 모델이 선택되는 것\n",
    "- 데이터의 면면과 다양성을 잡아내지 못함\n",
    "- 훈련 세트에도 잘 맞지 않을 것"
   ]
  },
  {
   "cell_type": "markdown",
   "metadata": {},
   "source": [
    "<br>"
   ]
  },
  {
   "cell_type": "markdown",
   "metadata": {},
   "source": [
    "- 모델을 복잡하게 할수록 훈련 데이터에 대해서는 더 정확히 예측할 수 있음\n",
    "- 그러나 너무 복잡해지면 훈련 세트의 각 데이터 포인트에 너무 민감해짐\n",
    "- 즉, 새로운 데이터에 **잘 일반화되지 못함**"
   ]
  },
  {
   "cell_type": "markdown",
   "metadata": {},
   "source": [
    "<br>"
   ]
  },
  {
   "cell_type": "markdown",
   "metadata": {},
   "source": [
    "- 우리가 찾으려는 모델 = 일반화 성능이 최대가 되는 최적점에 있는 모델\n",
    "- 과대적합과 과소적합의 절충점이 **[그림 2-1]**에 나타나 있음"
   ]
  },
  {
   "cell_type": "markdown",
   "metadata": {},
   "source": [
    "<div style=\"text-align:left;\">\n",
    "    <img src=\"images/ch02/img001.jpg\" width=\"400px\" align=\"center\">\n",
    "</div>"
   ]
  },
  {
   "cell_type": "markdown",
   "metadata": {},
   "source": [
    "<div style=\"text-align:center\">\n",
    "    <b>[그림 2-1]</b> 모델 복잡도에 따른 훈련과 테스트 정확도의 변화\n",
    "</div>"
   ]
  },
  {
   "cell_type": "markdown",
   "metadata": {},
   "source": [
    "<br>"
   ]
  },
  {
   "cell_type": "markdown",
   "metadata": {},
   "source": [
    "### 2.2.1 모델 복잡도와 데이터셋 크기의 관계"
   ]
  },
  {
   "cell_type": "markdown",
   "metadata": {},
   "source": [
    "- **모델의 복잡도**는 훈련 데이터셋에 담긴 **입력 데이터의 다양성**과 관련이 있음\n",
    "- 데이터셋에 다양한 데이터 포인트가 많다. $\\rightarrow$ 과대적합 없이 더 복잡한 모델을 만들 수 있음\n",
    "- 큰 데이터셋은 더 복잡한 모델을 만들 수 있게 해준다.\n",
    "- 그러나, 같은 데이터 포인트를 중복하거나 비슷한 데이터를 모으는 것은 도움이 되지 않음"
   ]
  },
  {
   "cell_type": "markdown",
   "metadata": {},
   "source": [
    "- 데이터를 더 많이 수집하고 적절하게 더 복잡한 모델을 만들면 지도 학습 문제에서 좋은 결과를 얻을 수 있음"
   ]
  },
  {
   "cell_type": "code",
   "execution_count": null,
   "metadata": {},
   "outputs": [],
   "source": []
  }
 ],
 "metadata": {
  "kernelspec": {
   "display_name": "Python 3",
   "language": "python",
   "name": "python3"
  },
  "language_info": {
   "codemirror_mode": {
    "name": "ipython",
    "version": 3
   },
   "file_extension": ".py",
   "mimetype": "text/x-python",
   "name": "python",
   "nbconvert_exporter": "python",
   "pygments_lexer": "ipython3",
   "version": "3.6.7"
  }
 },
 "nbformat": 4,
 "nbformat_minor": 2
}
