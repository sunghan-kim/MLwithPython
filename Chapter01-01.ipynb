{
 "cells": [
  {
   "cell_type": "markdown",
   "metadata": {},
   "source": [
    "**머신러닝(Machine Learning)**\n",
    "- 데이터에서 지식을 추출하는 작업\n",
    "- 통계학, 인공지능, 컴퓨터 과학이 얽혀 있는 연구 분야\n",
    "- 예측 분석(predictive analytics)으로도 불림"
   ]
  },
  {
   "cell_type": "markdown",
   "metadata": {},
   "source": [
    "<br>"
   ]
  },
  {
   "cell_type": "markdown",
   "metadata": {},
   "source": [
    "# 1.1 왜 머신러닝인가?"
   ]
  },
  {
   "cell_type": "markdown",
   "metadata": {},
   "source": [
    "<br>"
   ]
  },
  {
   "cell_type": "markdown",
   "metadata": {},
   "source": [
    "**규칙 기반 전문가 시스템(rule-based expert system)**\n",
    "- 지능형 어플리케이션을 만들기 위해 사용되는 방법\n",
    "- 결정 규칙을 수동으로 만드는 것이 적합(모델링할 처리 과정을 사람이 잘 알고 있는 경우)할 때 사용"
   ]
  },
  {
   "cell_type": "markdown",
   "metadata": {},
   "source": [
    "<br>"
   ]
  },
  {
   "cell_type": "markdown",
   "metadata": {},
   "source": [
    "**직접 규칙을 만들 때의 2가지 단점**  \n",
    "  \n",
    "  \n",
    "1) 결정에 필요한 로직이 한 분야나 작업에 국한\n",
    "- 작업이 조금만 변경되도 전체 시스템을 다시 개발해야 함  \n",
    "  \n",
    "  \n",
    "2) 규칙을 설계하려면 그 분야 전문가들이 내리는 결정 방식에 대해 잘 알아야 함"
   ]
  },
  {
   "cell_type": "markdown",
   "metadata": {},
   "source": [
    "<br>"
   ]
  },
  {
   "cell_type": "markdown",
   "metadata": {},
   "source": [
    "## 1.1.1 머신러닝으로 풀 수 있는 문제"
   ]
  },
  {
   "cell_type": "markdown",
   "metadata": {},
   "source": [
    "<br>"
   ]
  },
  {
   "cell_type": "markdown",
   "metadata": {},
   "source": [
    "**지도 학습(supervised learning) 알고리즘**\n",
    "- 이미 알려진 사례를 바탕으로 일반화된 모델을 만들어 의사 결정 프로세스를 자동화하는 것\n",
    "- 머신러닝 알고리즘에 입력과 기대되는 출력을 제공\n",
    "- 알고리즘은 주어진 입력에서 원하는 출력을 만드는 방법을 찾음\n",
    "- 이렇게 학습된 알고리즘은 사람의 도움 없이도 새로운 입력이 주어지면 적절한 출력을 만들 수 있음  \n",
    "  \n",
    "  \n",
    "- 입력 데이터로부터 기대한 출력이 나오도록 알고리즘을 가르치는 것  \n",
    "$\\rightarrow$ **지도 학습 알고리즘** : 입력과 출력으로부터 학습하는 머신러닝 알고리즘들 "
   ]
  },
  {
   "cell_type": "markdown",
   "metadata": {},
   "source": [
    "<br>"
   ]
  },
  {
   "cell_type": "markdown",
   "metadata": {},
   "source": [
    "**지도 학습의 예**  \n",
    "  \n",
    "  \n",
    "1) 편지 봉투에 손으로 쓴 우편번호 숫자 판별  \n",
    "- **입력** : 손글씨를 스캔한 이미지  \n",
    "- **기대 출력** : 우편번호 숫자\n",
    "- **필요 데이터** : 많은 편지 봉투와 각각의 우편번호를 눈으로 확인해서 원하는 출력값을 기록  \n",
    "  \n",
    "  \n",
    "  \n",
    "2) 의료 영상 이미지에 기반한 종양 판단\n",
    "- **입력** : 이미지\n",
    "- **기대 출력** : 종양이 양성인지 여부 (양성=암이 아님, 악성=암이 맞음)\n",
    "- **필요 데이터** : 의료 영상 데이터베이스 + 전문가의 의견 필요(의사가 이미지를 모두 확인해 종양이 양성인지 악성인지 판단)  \n",
    "  \n",
    "  \n",
    "3) 의심되는 신용카드 거래 감지\n",
    "- **입력** : 신용카드 거래 내역\n",
    "- **기대 출력** : 부정 거래인지의 여부\n",
    "- **필요 데이터** : 신용카드 회사 보유 모든 거래 내역 + 고객이 잘못된 거래라고 신고한 내역  "
   ]
  },
  {
   "cell_type": "markdown",
   "metadata": {},
   "source": [
    "<br>"
   ]
  },
  {
   "cell_type": "markdown",
   "metadata": {},
   "source": [
    "**비지도 학습(unsupervised learning) 알고리즘**\n",
    "- 입력은 주어지지만 출력은 제공되지 않음"
   ]
  },
  {
   "cell_type": "markdown",
   "metadata": {},
   "source": [
    "<br>"
   ]
  },
  {
   "cell_type": "markdown",
   "metadata": {},
   "source": [
    "**비지도 학습의 예**  \n",
    "  \n",
    "  \n",
    "1) 블로그 글의 주제 구분\n",
    "- 텍스트 데이터를 요약, 핵심 주제를 찾기\n",
    "- 사전에 어떤 주제인지 알지 못하고 얼마나 많은 주제가 있는 지 모름 (출력값을 준비할 수 없음)  \n",
    "  \n",
    "  \n",
    "2) 고객들을 취향이 비슷한 그룹으로 묶기\n",
    "- 고객 데이터 이용\n",
    "- 비슷한 취향의 고객을 그룹으로 묶고 싶음\n",
    "- 어떤 그룹이 있는 지 미리 알 수 없고 얼마나 많은 그룹이 있는 지 모름 (출력을 가지고 있지 않음)  \n",
    "  \n",
    "  \n",
    "3) 비정상적인 웹사이트 접근 탐지\n",
    "- 일상적이지 않은 접근 패턴 찾기 $\\rightarrow$ 부정행위나 버그를 구별할 수 있음"
   ]
  },
  {
   "cell_type": "markdown",
   "metadata": {},
   "source": [
    "<br>"
   ]
  },
  {
   "cell_type": "markdown",
   "metadata": {},
   "source": [
    "**입력 데이터 준비**\n",
    "- 지도 학습과 비지도 학습 모두 컴퓨터가 인식할 수 있는 형태로 입력 데이터를 준비하는 것이 중요  \n",
    "  \n",
    "  \n",
    "- 데이터를 엑셀 테이블처럼 생각하면 편리함  \n",
    "  \n",
    "  1) **행**\n",
    "  - 판별해야 할 개개의 데이터 (ex. 개개의 이메일, 고객, 거래)\n",
    "  - 하나의 개체\n",
    "  - 머신러닝에서는 **샘플(sample)** 또는 **데이터 포인트(data point)**라고 부름\n",
    "    \n",
    "  2) **열**\n",
    "  - 데이터를 구성하는 각 속성 (ex. 고객의 나이, 거래 가격, 지역)\n",
    "  - ex) 고객의 나이, 성별, 계정 생성일, 구매 빈도\n",
    "  - ex) 흑백 이미지로 된 종양 데이터의 크기, 모양, 색상의 진하기\n",
    "  - 샘플의 속성\n",
    "  - 머신러닝에서는 **특성(feature)**이라고 부름"
   ]
  },
  {
   "cell_type": "markdown",
   "metadata": {},
   "source": [
    "이미지 그리기!!!!!!!!!!!"
   ]
  },
  {
   "cell_type": "markdown",
   "metadata": {},
   "source": [
    "<br>"
   ]
  },
  {
   "cell_type": "markdown",
   "metadata": {},
   "source": [
    "- 책의 후반부에서 좋은 입력 데이터를 만들어내는 **특성 추출(feature extraction)** 혹은 **특성 공학(feature engineering)** 주제에 대해 다룸  \n",
    "  \n",
    "  \n",
    "- 중요한 점 : 머신러닝 알고리즘도 아무런 정보가 없는 데이터로는 어떤 것도 예측할 수 없다는 것"
   ]
  },
  {
   "cell_type": "markdown",
   "metadata": {},
   "source": [
    "<br>"
   ]
  },
  {
   "cell_type": "markdown",
   "metadata": {},
   "source": [
    "## 1.1.2 문제와 데이터 이해하기"
   ]
  },
  {
   "cell_type": "markdown",
   "metadata": {},
   "source": [
    "<br>"
   ]
  },
  {
   "cell_type": "markdown",
   "metadata": {},
   "source": [
    "**머신러닝 프로세스에서 가장 중요한 과정**\n",
    "- 사용할 데이터를 이해하고 그 데이터가 해결해야 할 문제와 어떤 관련이 있는지를 이해하는 일\n",
    "- 아무 알고리즘이나 선택해서 데이터를 입력해보는 것은 좋은 방법이 아님\n",
    "- 데이터셋으로 무엇을 하는 것인지 머신러닝 모델을 만들기 전에 반드시 이해해야 함  \n",
    "(알고리즘마다 잘 들어맞는 데이터나 문제의 종류가 다르기 때문)"
   ]
  },
  {
   "cell_type": "markdown",
   "metadata": {},
   "source": [
    "- 머신러닝 알고리즘이나 방법론은 **특정 문제를 푸는 전체 과정의 일부일 뿐**\n",
    "- 전체 시스템에 대한 큰 그림을 담고 있어야 함"
   ]
  },
  {
   "cell_type": "markdown",
   "metadata": {},
   "source": [
    "<br>"
   ]
  },
  {
   "cell_type": "code",
   "execution_count": null,
   "metadata": {},
   "outputs": [],
   "source": []
  }
 ],
 "metadata": {
  "kernelspec": {
   "display_name": "Python 3",
   "language": "python",
   "name": "python3"
  },
  "language_info": {
   "codemirror_mode": {
    "name": "ipython",
    "version": 3
   },
   "file_extension": ".py",
   "mimetype": "text/x-python",
   "name": "python",
   "nbconvert_exporter": "python",
   "pygments_lexer": "ipython3",
   "version": "3.6.7"
  }
 },
 "nbformat": 4,
 "nbformat_minor": 2
}
