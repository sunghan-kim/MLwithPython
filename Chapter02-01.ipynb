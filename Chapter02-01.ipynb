{
 "cells": [
  {
   "cell_type": "markdown",
   "metadata": {},
   "source": [
    "**지도 학습**\n",
    "- 입력과 출력 샘플 데이터가 있음\n",
    "- 주어진 입력으로부터 출력을 예측하고자 할 때 사용\n",
    "- 훈련 세트(입력/출력 샘플 데이터)로부터 머신러닝 모델을 만듬\n",
    "- 목표 : 새로운 데이터에 대해 정확한 출력을 예측하는 것\n",
    "- 훈련 데이터를 만드는 데 사람이 노력이 필요"
   ]
  },
  {
   "cell_type": "markdown",
   "metadata": {},
   "source": [
    "<br>"
   ]
  },
  {
   "cell_type": "markdown",
   "metadata": {},
   "source": [
    "# 2.1 분류와 회귀"
   ]
  },
  {
   "cell_type": "markdown",
   "metadata": {},
   "source": [
    "- 지도 학습에는 **분류(classification)**와 **회귀(regression)**가 있음"
   ]
  },
  {
   "cell_type": "markdown",
   "metadata": {},
   "source": [
    "## 2.1.1 분류(classification)"
   ]
  },
  {
   "cell_type": "markdown",
   "metadata": {},
   "source": [
    "- 미리 정의된, 가능성 있는 여러 **클래스 레이블(class label)** 중 하나를 예측"
   ]
  },
  {
   "cell_type": "markdown",
   "metadata": {},
   "source": [
    "**분류의 종류**\n",
    "1. **이진 분류(binary classification)**\n",
    "  - 두 개의 클래스로 분류\n",
    "  - 질문의 답이 예/아니오만 나올 수 있도록 하는 것\n",
    "  - ex) 이메일에서 스팸을 분류\n",
    "  - 이진 분류에서 한 클래스를 **양성(positive)** 클래스, 다른 하나를 **음성(negative)** 클래스라고 함\n",
    "  - 양성 클래스 : **학습하고자 하는 대상**을 의미 (ex. 스팸 메일의 경우 양성이 스팸 클래스를 의미)  \n",
    "  \n",
    "\n",
    "2. **다중 분류(multiclass classification)**\n",
    "  - 셋 이상의 클래스로 분류\n",
    "  - ex) 붓꽃 품종 에측\n",
    "  - ex) 웹사이트 글이 작성된 언어 예측 (클래스 : 미리 만들어놓은 언어 목록)"
   ]
  },
  {
   "cell_type": "markdown",
   "metadata": {},
   "source": [
    "<br>"
   ]
  },
  {
   "cell_type": "markdown",
   "metadata": {},
   "source": [
    "## 2.1.2 회귀(regression)"
   ]
  },
  {
   "cell_type": "markdown",
   "metadata": {},
   "source": [
    "- 연속적인 숫자, 또는 **부동소수점수**(프로그래밍 용어), 또는 **실수**(수학 용어)를 예측하는 것\n",
    "- 예측된 값은 어떤 양, 일정 범위 안의 어떤 숫자도 될 수 있음  \n",
    "  \n",
    "  \n",
    "- ex) 어떤 사람의 교육 수준, 나이, 주거리를 바탕으로 **연간 소득**을 예측\n",
    "- ex) 옥수수 농장에서 전년도 수확량과 날씨, 고용 인원수 등으로 **올해 수확량**을 예측"
   ]
  },
  {
   "cell_type": "markdown",
   "metadata": {},
   "source": [
    "<br>"
   ]
  },
  {
   "cell_type": "markdown",
   "metadata": {},
   "source": [
    "## 2.1.3 회귀와 분류 문제 구분"
   ]
  },
  {
   "cell_type": "markdown",
   "metadata": {},
   "source": [
    "- 출력 값에 연속성이 있는 지를 통해 회귀와 분류 문제를 구분  \n",
    "  \n",
    "  \n",
    "- 예상 출력 값 사이에 **연속성**이 **있다** $\\rightarrow$ **회귀** 문제\n",
    "- ex) 연소득을 예측하는 경우 출력에 연속성이 있음 (연소득이 40,000,000원 또는 40,000,001원이 될 수 있음)  \n",
    "  \n",
    "  \n",
    "- 예상 출력 값 사이에 **연속성**이 **없다** $\\rightarrow$ **분류** 문제\n",
    "- ex) 웹사이트가 작성된 언어를 예측할 때 출력인 언어들 사이에는 어떤 연속성도 없음 (한국어, 영어, 중국어 등)"
   ]
  },
  {
   "cell_type": "code",
   "execution_count": null,
   "metadata": {},
   "outputs": [],
   "source": []
  }
 ],
 "metadata": {
  "kernelspec": {
   "display_name": "Python 3",
   "language": "python",
   "name": "python3"
  },
  "language_info": {
   "codemirror_mode": {
    "name": "ipython",
    "version": 3
   },
   "file_extension": ".py",
   "mimetype": "text/x-python",
   "name": "python",
   "nbconvert_exporter": "python",
   "pygments_lexer": "ipython3",
   "version": "3.6.7"
  }
 },
 "nbformat": 4,
 "nbformat_minor": 2
}
